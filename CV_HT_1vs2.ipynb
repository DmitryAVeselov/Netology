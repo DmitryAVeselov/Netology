{
  "nbformat": 4,
  "nbformat_minor": 0,
  "metadata": {
    "colab": {
      "provenance": [],
      "collapsed_sections": [
        "xiurjCBVMDTG",
        "BmTr_lXTKNbN",
        "lspCHiaCKl72",
        "wYhse8xmmdS5",
        "_rQbSXc0CwSQ",
        "nCDrYOZVD8LS",
        "xYh4TAz4Ei3p",
        "RTk-9CAxF0_5"
      ]
    },
    "kernelspec": {
      "name": "python3",
      "display_name": "Python 3"
    },
    "accelerator": "GPU"
  },
  "cells": [
    {
      "cell_type": "markdown",
      "source": [
        "Digit Recognizer Kaggle"
      ],
      "metadata": {
        "id": "uFZVsjIS4z8G"
      }
    },
    {
      "metadata": {
        "id": "qrfd6FzSLrE2"
      },
      "cell_type": "code",
      "source": [
        "import tensorflow as tf\n",
        "from tensorflow import keras\n",
        "from tensorflow.keras.models import Sequential\n",
        "from tensorflow.keras.layers import Dense, Dropout \n",
        "from tensorflow.keras import utils\n",
        "\n",
        "from sklearn.model_selection import train_test_split\n",
        "from google.colab import files\n",
        "import numpy as np\n",
        "import matplotlib.pyplot as plt\n",
        "%matplotlib inline "
      ],
      "execution_count": 125,
      "outputs": []
    },
    {
      "metadata": {
        "id": "rzU1bjUis3ma",
        "outputId": "5736b973-d264-40c6-df46-eb65e0dba43d",
        "colab": {
          "base_uri": "https://localhost:8080/",
          "height": 72
        }
      },
      "cell_type": "code",
      "source": [
        "file = files.upload()"
      ],
      "execution_count": 3,
      "outputs": [
        {
          "output_type": "display_data",
          "data": {
            "text/plain": [
              "<IPython.core.display.HTML object>"
            ],
            "text/html": [
              "\n",
              "     <input type=\"file\" id=\"files-93e2544b-f1ab-4a51-bab8-9db8cfe77272\" name=\"files[]\" multiple disabled\n",
              "        style=\"border:none\" />\n",
              "     <output id=\"result-93e2544b-f1ab-4a51-bab8-9db8cfe77272\">\n",
              "      Upload widget is only available when the cell has been executed in the\n",
              "      current browser session. Please rerun this cell to enable.\n",
              "      </output>\n",
              "      <script>// Copyright 2017 Google LLC\n",
              "//\n",
              "// Licensed under the Apache License, Version 2.0 (the \"License\");\n",
              "// you may not use this file except in compliance with the License.\n",
              "// You may obtain a copy of the License at\n",
              "//\n",
              "//      http://www.apache.org/licenses/LICENSE-2.0\n",
              "//\n",
              "// Unless required by applicable law or agreed to in writing, software\n",
              "// distributed under the License is distributed on an \"AS IS\" BASIS,\n",
              "// WITHOUT WARRANTIES OR CONDITIONS OF ANY KIND, either express or implied.\n",
              "// See the License for the specific language governing permissions and\n",
              "// limitations under the License.\n",
              "\n",
              "/**\n",
              " * @fileoverview Helpers for google.colab Python module.\n",
              " */\n",
              "(function(scope) {\n",
              "function span(text, styleAttributes = {}) {\n",
              "  const element = document.createElement('span');\n",
              "  element.textContent = text;\n",
              "  for (const key of Object.keys(styleAttributes)) {\n",
              "    element.style[key] = styleAttributes[key];\n",
              "  }\n",
              "  return element;\n",
              "}\n",
              "\n",
              "// Max number of bytes which will be uploaded at a time.\n",
              "const MAX_PAYLOAD_SIZE = 100 * 1024;\n",
              "\n",
              "function _uploadFiles(inputId, outputId) {\n",
              "  const steps = uploadFilesStep(inputId, outputId);\n",
              "  const outputElement = document.getElementById(outputId);\n",
              "  // Cache steps on the outputElement to make it available for the next call\n",
              "  // to uploadFilesContinue from Python.\n",
              "  outputElement.steps = steps;\n",
              "\n",
              "  return _uploadFilesContinue(outputId);\n",
              "}\n",
              "\n",
              "// This is roughly an async generator (not supported in the browser yet),\n",
              "// where there are multiple asynchronous steps and the Python side is going\n",
              "// to poll for completion of each step.\n",
              "// This uses a Promise to block the python side on completion of each step,\n",
              "// then passes the result of the previous step as the input to the next step.\n",
              "function _uploadFilesContinue(outputId) {\n",
              "  const outputElement = document.getElementById(outputId);\n",
              "  const steps = outputElement.steps;\n",
              "\n",
              "  const next = steps.next(outputElement.lastPromiseValue);\n",
              "  return Promise.resolve(next.value.promise).then((value) => {\n",
              "    // Cache the last promise value to make it available to the next\n",
              "    // step of the generator.\n",
              "    outputElement.lastPromiseValue = value;\n",
              "    return next.value.response;\n",
              "  });\n",
              "}\n",
              "\n",
              "/**\n",
              " * Generator function which is called between each async step of the upload\n",
              " * process.\n",
              " * @param {string} inputId Element ID of the input file picker element.\n",
              " * @param {string} outputId Element ID of the output display.\n",
              " * @return {!Iterable<!Object>} Iterable of next steps.\n",
              " */\n",
              "function* uploadFilesStep(inputId, outputId) {\n",
              "  const inputElement = document.getElementById(inputId);\n",
              "  inputElement.disabled = false;\n",
              "\n",
              "  const outputElement = document.getElementById(outputId);\n",
              "  outputElement.innerHTML = '';\n",
              "\n",
              "  const pickedPromise = new Promise((resolve) => {\n",
              "    inputElement.addEventListener('change', (e) => {\n",
              "      resolve(e.target.files);\n",
              "    });\n",
              "  });\n",
              "\n",
              "  const cancel = document.createElement('button');\n",
              "  inputElement.parentElement.appendChild(cancel);\n",
              "  cancel.textContent = 'Cancel upload';\n",
              "  const cancelPromise = new Promise((resolve) => {\n",
              "    cancel.onclick = () => {\n",
              "      resolve(null);\n",
              "    };\n",
              "  });\n",
              "\n",
              "  // Wait for the user to pick the files.\n",
              "  const files = yield {\n",
              "    promise: Promise.race([pickedPromise, cancelPromise]),\n",
              "    response: {\n",
              "      action: 'starting',\n",
              "    }\n",
              "  };\n",
              "\n",
              "  cancel.remove();\n",
              "\n",
              "  // Disable the input element since further picks are not allowed.\n",
              "  inputElement.disabled = true;\n",
              "\n",
              "  if (!files) {\n",
              "    return {\n",
              "      response: {\n",
              "        action: 'complete',\n",
              "      }\n",
              "    };\n",
              "  }\n",
              "\n",
              "  for (const file of files) {\n",
              "    const li = document.createElement('li');\n",
              "    li.append(span(file.name, {fontWeight: 'bold'}));\n",
              "    li.append(span(\n",
              "        `(${file.type || 'n/a'}) - ${file.size} bytes, ` +\n",
              "        `last modified: ${\n",
              "            file.lastModifiedDate ? file.lastModifiedDate.toLocaleDateString() :\n",
              "                                    'n/a'} - `));\n",
              "    const percent = span('0% done');\n",
              "    li.appendChild(percent);\n",
              "\n",
              "    outputElement.appendChild(li);\n",
              "\n",
              "    const fileDataPromise = new Promise((resolve) => {\n",
              "      const reader = new FileReader();\n",
              "      reader.onload = (e) => {\n",
              "        resolve(e.target.result);\n",
              "      };\n",
              "      reader.readAsArrayBuffer(file);\n",
              "    });\n",
              "    // Wait for the data to be ready.\n",
              "    let fileData = yield {\n",
              "      promise: fileDataPromise,\n",
              "      response: {\n",
              "        action: 'continue',\n",
              "      }\n",
              "    };\n",
              "\n",
              "    // Use a chunked sending to avoid message size limits. See b/62115660.\n",
              "    let position = 0;\n",
              "    do {\n",
              "      const length = Math.min(fileData.byteLength - position, MAX_PAYLOAD_SIZE);\n",
              "      const chunk = new Uint8Array(fileData, position, length);\n",
              "      position += length;\n",
              "\n",
              "      const base64 = btoa(String.fromCharCode.apply(null, chunk));\n",
              "      yield {\n",
              "        response: {\n",
              "          action: 'append',\n",
              "          file: file.name,\n",
              "          data: base64,\n",
              "        },\n",
              "      };\n",
              "\n",
              "      let percentDone = fileData.byteLength === 0 ?\n",
              "          100 :\n",
              "          Math.round((position / fileData.byteLength) * 100);\n",
              "      percent.textContent = `${percentDone}% done`;\n",
              "\n",
              "    } while (position < fileData.byteLength);\n",
              "  }\n",
              "\n",
              "  // All done.\n",
              "  yield {\n",
              "    response: {\n",
              "      action: 'complete',\n",
              "    }\n",
              "  };\n",
              "}\n",
              "\n",
              "scope.google = scope.google || {};\n",
              "scope.google.colab = scope.google.colab || {};\n",
              "scope.google.colab._files = {\n",
              "  _uploadFiles,\n",
              "  _uploadFilesContinue,\n",
              "};\n",
              "})(self);\n",
              "</script> "
            ]
          },
          "metadata": {}
        },
        {
          "output_type": "stream",
          "name": "stdout",
          "text": [
            "Saving kaggle.json to kaggle.json\n"
          ]
        }
      ]
    },
    {
      "metadata": {
        "id": "NoZlnpjytrj5"
      },
      "cell_type": "code",
      "source": [
        "!mkdir ~/.kaggle\n",
        "!mv kaggle.json ~/.kaggle"
      ],
      "execution_count": 4,
      "outputs": []
    },
    {
      "metadata": {
        "id": "-jtLp-DhuJzh",
        "outputId": "e8468be9-84fb-4716-9ce0-62e3c66c859b",
        "colab": {
          "base_uri": "https://localhost:8080/"
        }
      },
      "cell_type": "code",
      "source": [
        "!kaggle competitions download -c digit-recognizer"
      ],
      "execution_count": 5,
      "outputs": [
        {
          "output_type": "stream",
          "name": "stdout",
          "text": [
            "Warning: Your Kaggle API key is readable by other users on this system! To fix this, you can run 'chmod 600 /root/.kaggle/kaggle.json'\n",
            "Downloading digit-recognizer.zip to /content\n",
            " 85% 13.0M/15.3M [00:01<00:00, 13.4MB/s]\n",
            "100% 15.3M/15.3M [00:01<00:00, 9.37MB/s]\n"
          ]
        }
      ]
    },
    {
      "metadata": {
        "id": "c7RGdlX9vKpB",
        "outputId": "7184861c-ff87-4675-c16a-70588f26e8b3",
        "colab": {
          "base_uri": "https://localhost:8080/"
        }
      },
      "cell_type": "code",
      "source": [
        "!ls"
      ],
      "execution_count": 71,
      "outputs": [
        {
          "output_type": "stream",
          "name": "stdout",
          "text": [
            "digit-recognizer.zip  sample_submission.csv  test.csv\n",
            "sample_data\t      submission.csv\t     train.csv\n"
          ]
        }
      ]
    },
    {
      "cell_type": "code",
      "source": [],
      "metadata": {
        "id": "tumzQWkgz5a0"
      },
      "execution_count": null,
      "outputs": []
    },
    {
      "metadata": {
        "id": "E5L3LUIi8PDV"
      },
      "cell_type": "code",
      "source": [
        "train_dataset = np.loadtxt('train.csv', skiprows=1, delimiter=',')"
      ],
      "execution_count": 126,
      "outputs": []
    },
    {
      "metadata": {
        "id": "0772VOME9vW_",
        "outputId": "c3b59403-dd73-46c8-97d7-baef65c07eb3",
        "colab": {
          "base_uri": "https://localhost:8080/"
        }
      },
      "cell_type": "code",
      "source": [
        "train_dataset[0:5]"
      ],
      "execution_count": 127,
      "outputs": [
        {
          "output_type": "execute_result",
          "data": {
            "text/plain": [
              "array([[1., 0., 0., ..., 0., 0., 0.],\n",
              "       [0., 0., 0., ..., 0., 0., 0.],\n",
              "       [1., 0., 0., ..., 0., 0., 0.],\n",
              "       [4., 0., 0., ..., 0., 0., 0.],\n",
              "       [0., 0., 0., ..., 0., 0., 0.]])"
            ]
          },
          "metadata": {},
          "execution_count": 127
        }
      ]
    },
    {
      "metadata": {
        "id": "f5-5e_kj-GS5"
      },
      "cell_type": "code",
      "source": [
        "x_train = train_dataset[:, 1:]\n",
        "x_train = x_train.reshape(x_train.shape[0], 28, 28)\n",
        "input_shape = (28, 28)"
      ],
      "execution_count": 134,
      "outputs": []
    },
    {
      "metadata": {
        "id": "ga0DtPJQVkEh"
      },
      "cell_type": "code",
      "source": [
        "x_train = x_train / 255.0"
      ],
      "execution_count": 135,
      "outputs": []
    },
    {
      "metadata": {
        "id": "IW7rhFNSAGIC",
        "colab": {
          "base_uri": "https://localhost:8080/"
        },
        "outputId": "a210a007-6c30-4561-f076-e494d983acb6"
      },
      "cell_type": "code",
      "source": [
        "x_train[1].shape"
      ],
      "execution_count": 136,
      "outputs": [
        {
          "output_type": "execute_result",
          "data": {
            "text/plain": [
              "(28, 28)"
            ]
          },
          "metadata": {},
          "execution_count": 136
        }
      ]
    },
    {
      "metadata": {
        "id": "sjO-WFM0AnJI"
      },
      "cell_type": "code",
      "source": [
        "y_train = train_dataset[:, 0]"
      ],
      "execution_count": 137,
      "outputs": []
    },
    {
      "metadata": {
        "id": "_nsLwMHuGnHI",
        "outputId": "12553a51-8df1-418d-95e1-9ce3a3e17b4d",
        "colab": {
          "base_uri": "https://localhost:8080/"
        }
      },
      "cell_type": "code",
      "source": [
        "y_train[:5]"
      ],
      "execution_count": 138,
      "outputs": [
        {
          "output_type": "execute_result",
          "data": {
            "text/plain": [
              "array([1., 0., 1., 4., 0.])"
            ]
          },
          "metadata": {},
          "execution_count": 138
        }
      ]
    },
    {
      "metadata": {
        "id": "UjEDV7gSrthA"
      },
      "cell_type": "code",
      "source": [
        "x_train, x_test, y_train, y_val = train_test_split(x_train, y_train, test_size = 0.2, random_state=42)"
      ],
      "execution_count": 140,
      "outputs": []
    },
    {
      "metadata": {
        "id": "LJgbvHFTT2g7",
        "outputId": "4d177943-e0b8-4b5e-d11b-e31337183c98",
        "colab": {
          "base_uri": "https://localhost:8080/"
        }
      },
      "cell_type": "code",
      "source": [
        "x_train.shape"
      ],
      "execution_count": 141,
      "outputs": [
        {
          "output_type": "execute_result",
          "data": {
            "text/plain": [
              "(26880, 28, 28)"
            ]
          },
          "metadata": {},
          "execution_count": 141
        }
      ]
    },
    {
      "metadata": {
        "id": "YvRM8hR06iUt"
      },
      "cell_type": "code",
      "source": [
        "model = keras.Sequential([\n",
        "                        keras.layers.Flatten(input_shape=(28,28)),\n",
        "                        keras.layers.Dense(128, activation=\"relu\"), \n",
        "                        keras.layers.Dense(10, activation=\"softmax\")\n",
        "])"
      ],
      "execution_count": 142,
      "outputs": []
    },
    {
      "metadata": {
        "id": "PTcbSxchKZjd",
        "outputId": "0a94381a-ad55-4efa-d382-127d9db2ca41",
        "colab": {
          "base_uri": "https://localhost:8080/"
        }
      },
      "cell_type": "code",
      "source": [
        "model.compile(optimizer=tf.keras.optimizers.SGD(), \n",
        "              loss=\"sparse_categorical_crossentropy\", metrics=[\"accuracy\"])\n",
        "\n",
        "print(model.summary())"
      ],
      "execution_count": 143,
      "outputs": [
        {
          "output_type": "stream",
          "name": "stdout",
          "text": [
            "Model: \"sequential_5\"\n",
            "_________________________________________________________________\n",
            " Layer (type)                Output Shape              Param #   \n",
            "=================================================================\n",
            " flatten_5 (Flatten)         (None, 784)               0         \n",
            "                                                                 \n",
            " dense_10 (Dense)            (None, 128)               100480    \n",
            "                                                                 \n",
            " dense_11 (Dense)            (None, 10)                1290      \n",
            "                                                                 \n",
            "=================================================================\n",
            "Total params: 101,770\n",
            "Trainable params: 101,770\n",
            "Non-trainable params: 0\n",
            "_________________________________________________________________\n",
            "None\n"
          ]
        }
      ]
    },
    {
      "metadata": {
        "id": "H6EIXu1dKoju",
        "outputId": "9e12f51e-1185-4132-e2fe-f9395e2a7d98",
        "colab": {
          "base_uri": "https://localhost:8080/"
        }
      },
      "cell_type": "code",
      "source": [
        "model.fit(x_train, y_train, epochs=10)"
      ],
      "execution_count": 144,
      "outputs": [
        {
          "output_type": "stream",
          "name": "stdout",
          "text": [
            "Epoch 1/10\n",
            "840/840 [==============================] - 3s 3ms/step - loss: 0.9119 - accuracy: 0.7842\n",
            "Epoch 2/10\n",
            "840/840 [==============================] - 2s 2ms/step - loss: 0.4311 - accuracy: 0.8856\n",
            "Epoch 3/10\n",
            "840/840 [==============================] - 2s 2ms/step - loss: 0.3570 - accuracy: 0.9017\n",
            "Epoch 4/10\n",
            "840/840 [==============================] - 2s 3ms/step - loss: 0.3203 - accuracy: 0.9099\n",
            "Epoch 5/10\n",
            "840/840 [==============================] - 2s 3ms/step - loss: 0.2955 - accuracy: 0.9160\n",
            "Epoch 6/10\n",
            "840/840 [==============================] - 2s 2ms/step - loss: 0.2764 - accuracy: 0.9221\n",
            "Epoch 7/10\n",
            "840/840 [==============================] - 2s 2ms/step - loss: 0.2607 - accuracy: 0.9254\n",
            "Epoch 8/10\n",
            "840/840 [==============================] - 2s 2ms/step - loss: 0.2476 - accuracy: 0.9298\n",
            "Epoch 9/10\n",
            "840/840 [==============================] - 2s 2ms/step - loss: 0.2362 - accuracy: 0.9320\n",
            "Epoch 10/10\n",
            "840/840 [==============================] - 2s 3ms/step - loss: 0.2256 - accuracy: 0.9372\n"
          ]
        },
        {
          "output_type": "execute_result",
          "data": {
            "text/plain": [
              "<keras.callbacks.History at 0x7f2881e9a4c0>"
            ]
          },
          "metadata": {},
          "execution_count": 144
        }
      ]
    },
    {
      "metadata": {
        "id": "lw4F0rCbC0HA"
      },
      "cell_type": "code",
      "source": [
        "test_dataset = np.loadtxt('test.csv', skiprows=1, delimiter=\",\")"
      ],
      "execution_count": 145,
      "outputs": []
    },
    {
      "metadata": {
        "id": "-Qaa-wwCDJxQ",
        "outputId": "ffbffd46-b157-4fd5-d11d-3a1221eb7614",
        "colab": {
          "base_uri": "https://localhost:8080/"
        }
      },
      "cell_type": "code",
      "source": [
        "test_dataset[:5]"
      ],
      "execution_count": 146,
      "outputs": [
        {
          "output_type": "execute_result",
          "data": {
            "text/plain": [
              "array([[0., 0., 0., ..., 0., 0., 0.],\n",
              "       [0., 0., 0., ..., 0., 0., 0.],\n",
              "       [0., 0., 0., ..., 0., 0., 0.],\n",
              "       [0., 0., 0., ..., 0., 0., 0.],\n",
              "       [0., 0., 0., ..., 0., 0., 0.]])"
            ]
          },
          "metadata": {},
          "execution_count": 146
        }
      ]
    },
    {
      "metadata": {
        "id": "KtCMLgC7Y53H"
      },
      "cell_type": "code",
      "source": [
        "x_test = test_dataset.reshape(test_dataset.shape[0], 28, 28)"
      ],
      "execution_count": 147,
      "outputs": []
    },
    {
      "metadata": {
        "id": "lKKDMHoCDYKH"
      },
      "cell_type": "code",
      "source": [
        "x_test = x_test / 255.0"
      ],
      "execution_count": 148,
      "outputs": []
    },
    {
      "metadata": {
        "id": "hkGx6etOEHW3",
        "colab": {
          "base_uri": "https://localhost:8080/"
        },
        "outputId": "76a3bc0f-6be8-4f72-ab37-e99d197362ce"
      },
      "cell_type": "code",
      "source": [
        "predictions = model.predict(x_test)"
      ],
      "execution_count": 149,
      "outputs": [
        {
          "output_type": "stream",
          "name": "stdout",
          "text": [
            "875/875 [==============================] - 2s 2ms/step\n"
          ]
        }
      ]
    },
    {
      "metadata": {
        "id": "KpjMktszEOHX",
        "outputId": "e37c6cb6-d48f-4b43-a602-4044dbf37990",
        "colab": {
          "base_uri": "https://localhost:8080/"
        }
      },
      "cell_type": "code",
      "source": [
        "predictions[:5]"
      ],
      "execution_count": 150,
      "outputs": [
        {
          "output_type": "execute_result",
          "data": {
            "text/plain": [
              "array([[3.94374765e-05, 6.44337084e-10, 9.99810040e-01, 1.41677156e-04,\n",
              "        6.56639898e-09, 6.67068321e-07, 2.90839466e-07, 2.04100800e-07,\n",
              "        7.30003012e-06, 3.23566468e-07],\n",
              "       [9.95789826e-01, 6.22984830e-10, 3.91878311e-05, 2.99471994e-05,\n",
              "        2.73097291e-11, 4.11502365e-03, 2.43090699e-06, 7.41492613e-06,\n",
              "        1.61752050e-05, 1.31594433e-07],\n",
              "       [1.21889543e-03, 3.68990423e-03, 1.46680828e-02, 7.62688136e-03,\n",
              "        2.50886619e-01, 4.98206615e-02, 3.36106448e-03, 1.04238736e-02,\n",
              "        1.03157811e-01, 5.55146158e-01],\n",
              "       [5.92609355e-03, 1.01756574e-04, 8.37940425e-02, 2.32642720e-04,\n",
              "        1.69691205e-01, 1.18082413e-03, 4.57473146e-03, 2.87175447e-01,\n",
              "        5.02925413e-03, 4.42294002e-01],\n",
              "       [2.45621137e-04, 1.11476122e-03, 2.27337644e-01, 7.58063972e-01,\n",
              "        1.03981256e-05, 2.90241488e-03, 2.79300660e-03, 4.69533668e-04,\n",
              "        7.02053634e-03, 4.21484110e-05]], dtype=float32)"
            ]
          },
          "metadata": {},
          "execution_count": 150
        }
      ]
    },
    {
      "metadata": {
        "id": "9zXRff8tEZcw"
      },
      "cell_type": "code",
      "source": [
        "predictions = np.argmax(predictions, axis=1)"
      ],
      "execution_count": 151,
      "outputs": []
    },
    {
      "metadata": {
        "id": "I4JBXf1lEev6",
        "outputId": "bd034f08-12e9-4aa0-b828-7379c6e213eb",
        "colab": {
          "base_uri": "https://localhost:8080/"
        }
      },
      "cell_type": "code",
      "source": [
        "predictions[:5]"
      ],
      "execution_count": 152,
      "outputs": [
        {
          "output_type": "execute_result",
          "data": {
            "text/plain": [
              "array([2, 0, 9, 9, 3])"
            ]
          },
          "metadata": {},
          "execution_count": 152
        }
      ]
    },
    {
      "metadata": {
        "id": "ciJZLp7uEn5p"
      },
      "cell_type": "code",
      "source": [
        "out = np.column_stack((range(1, predictions.shape[0]+1), predictions))"
      ],
      "execution_count": 153,
      "outputs": []
    },
    {
      "metadata": {
        "id": "fbtqv-c7FH8S",
        "outputId": "5b28fef1-b315-46b0-df7c-6c2b44f49f7f",
        "colab": {
          "base_uri": "https://localhost:8080/"
        }
      },
      "cell_type": "code",
      "source": [
        "out[:5]"
      ],
      "execution_count": 154,
      "outputs": [
        {
          "output_type": "execute_result",
          "data": {
            "text/plain": [
              "array([[1, 2],\n",
              "       [2, 0],\n",
              "       [3, 9],\n",
              "       [4, 9],\n",
              "       [5, 3]])"
            ]
          },
          "metadata": {},
          "execution_count": 154
        }
      ]
    },
    {
      "metadata": {
        "id": "aub5ObF2FUmy"
      },
      "cell_type": "code",
      "source": [
        "np.savetxt('submission.csv', out, header=\"ImageId,Label\", \n",
        "            comments=\"\", fmt=\"%d,%d\")"
      ],
      "execution_count": 155,
      "outputs": []
    },
    {
      "metadata": {
        "id": "kdtnyQEOFX-x",
        "outputId": "0d934f8d-c005-4154-b7f5-a2b21f46ab0c",
        "colab": {
          "base_uri": "https://localhost:8080/"
        }
      },
      "cell_type": "code",
      "source": [
        "!head submission.csv"
      ],
      "execution_count": 156,
      "outputs": [
        {
          "output_type": "stream",
          "name": "stdout",
          "text": [
            "ImageId,Label\n",
            "1,2\n",
            "2,0\n",
            "3,9\n",
            "4,9\n",
            "5,3\n",
            "6,7\n",
            "7,0\n",
            "8,3\n",
            "9,0\n"
          ]
        }
      ]
    },
    {
      "metadata": {
        "id": "26Ij7aJXF5fo",
        "outputId": "7f52135e-809d-49b2-d81f-b4aa81c0e150",
        "colab": {
          "base_uri": "https://localhost:8080/"
        }
      },
      "cell_type": "code",
      "source": [
        "!kaggle competitions submit -c digit-recognizer -m \"Submition from Colab\" -f submission.csv"
      ],
      "execution_count": 157,
      "outputs": [
        {
          "output_type": "stream",
          "name": "stdout",
          "text": [
            "Warning: Your Kaggle API key is readable by other users on this system! To fix this, you can run 'chmod 600 /root/.kaggle/kaggle.json'\n",
            "100% 208k/208k [00:02<00:00, 72.2kB/s]\n",
            "Successfully submitted to Digit Recognizer"
          ]
        }
      ]
    }
  ]
}